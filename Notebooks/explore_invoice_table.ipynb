{
 "cells": [
  {
   "cell_type": "code",
   "execution_count": 1,
   "metadata": {},
   "outputs": [],
   "source": [
    "from google.cloud import bigquery"
   ]
  },
  {
   "cell_type": "code",
   "execution_count": 2,
   "metadata": {},
   "outputs": [],
   "source": [
    "from typing import Tuple"
   ]
  },
  {
   "cell_type": "code",
   "execution_count": 3,
   "metadata": {},
   "outputs": [],
   "source": [
    "from query_helper import SafeQuery"
   ]
  },
  {
   "cell_type": "code",
   "execution_count": 4,
   "metadata": {},
   "outputs": [
    {
     "name": "stdout",
     "output_type": "stream",
     "text": [
      "Query will process 11.1 GB and it will cost 0.05 dollars.\n"
     ]
    }
   ],
   "source": [
    "query = (\n",
    "  \"SELECT * \"\n",
    "  \"FROM `fb-data-science-dev.invoice_features.invoice`\"\n",
    ")\n",
    "\n",
    "query_runner = SafeQuery(query=query, project='fb-data-science-dev')\n",
    "\n",
    "gb_preocessed, dollar_charged = query_runner.estimate_cost()\n"
   ]
  },
  {
   "cell_type": "code",
   "execution_count": 5,
   "metadata": {},
   "outputs": [
    {
     "name": "stderr",
     "output_type": "stream",
     "text": [
      "Query complete after 21.15s: 100%|██████████| 4/4 [00:21<00:00,  5.28s/query]                                  \n",
      "Downloading:   1%|          | 466656/68884191 [01:40<4:08:54, 4581.06rows/s]"
     ]
    }
   ],
   "source": [
    "data_df = query_runner.get_data_as_df()"
   ]
  },
  {
   "cell_type": "code",
   "execution_count": null,
   "metadata": {},
   "outputs": [
    {
     "data": {
      "text/plain": [
       "(10000, 13)"
      ]
     },
     "execution_count": 6,
     "metadata": {},
     "output_type": "execute_result"
    }
   ],
   "source": [
    "data_df.shape"
   ]
  },
  {
   "cell_type": "code",
   "execution_count": null,
   "metadata": {},
   "outputs": [],
   "source": [
    "data_df.head()"
   ]
  },
  {
   "cell_type": "code",
   "execution_count": null,
   "metadata": {},
   "outputs": [],
   "source": [
    "data_df.info()"
   ]
  },
  {
   "cell_type": "code",
   "execution_count": null,
   "metadata": {},
   "outputs": [],
   "source": []
  }
 ],
 "metadata": {
  "kernelspec": {
   "display_name": "feature-eng",
   "language": "python",
   "name": "python3"
  },
  "language_info": {
   "codemirror_mode": {
    "name": "ipython",
    "version": 3
   },
   "file_extension": ".py",
   "mimetype": "text/x-python",
   "name": "python",
   "nbconvert_exporter": "python",
   "pygments_lexer": "ipython3",
   "version": "3.8.15"
  },
  "orig_nbformat": 4,
  "vscode": {
   "interpreter": {
    "hash": "58ea913007fd37fdf6f95bb3d0b5548ad77f940d0bff834e495f7f1986764735"
   }
  }
 },
 "nbformat": 4,
 "nbformat_minor": 2
}
